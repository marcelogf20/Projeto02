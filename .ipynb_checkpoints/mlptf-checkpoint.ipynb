{
 "cells": [
  {
   "cell_type": "code",
   "execution_count": 1,
   "metadata": {},
   "outputs": [
    {
     "name": "stderr",
     "output_type": "stream",
     "text": [
      "Using TensorFlow backend.\n"
     ]
    }
   ],
   "source": [
    "## Loading MNIST dataset from keras\n",
    "import keras\n",
    "from sklearn.preprocessing import LabelBinarizer\n",
    "import matplotlib.pyplot as plt\n",
    "import numpy as np\n",
    "import tensorflow as tf\n",
    "from sklearn.metrics import roc_auc_score, accuracy_score\n"
   ]
  },
  {
   "cell_type": "code",
   "execution_count": 2,
   "metadata": {},
   "outputs": [],
   "source": [
    "def load_dataset(flatten=False):\n",
    "    (X_train, y_train), (X_test, y_test) = keras.datasets.mnist.load_data()\n",
    "    # normalize\n",
    "    X_train = X_train/255\n",
    "    X_test = X_test/255\n",
    "    # we reserve the last 10000 training examples for validation\n",
    "    X_train, X_val = X_train[:-10000], X_train[-10000:]\n",
    "    y_train, y_val = y_train[:-10000], y_train[-10000:]\n",
    "    if flatten:\n",
    "        X_train = X_train.reshape([X_train.shape[0], -1])\n",
    "        X_val = X_val.reshape([X_val.shape[0], -1])\n",
    "        X_test = X_test.reshape([X_test.shape[0], -1])\n",
    "    return X_train, y_train, X_val, y_val, X_test, y_test\n"
   ]
  },
  {
   "cell_type": "code",
   "execution_count": 3,
   "metadata": {},
   "outputs": [],
   "source": [
    "X_train, y_train, X_val, y_val, X_test, y_test = load_dataset()\n",
    "## Printing dimensions\n",
    "#print(X_train.shape, y_train.shape)\n",
    "## Visualizing the first digit\n",
    "#plt.imshow(X_train[0], cmap=\"Greys\");\n"
   ]
  },
  {
   "cell_type": "code",
   "execution_count": 4,
   "metadata": {},
   "outputs": [],
   "source": [
    "## Changing dimension of input images from N*28*28 to  N*784\n",
    "X_train = X_train.reshape((X_train.shape[0],X_train.shape[1]*X_train.shape[2]))\n",
    "X_test = X_test.reshape((X_test.shape[0],X_test.shape[1]*X_test.shape[2]))"
   ]
  },
  {
   "cell_type": "code",
   "execution_count": 5,
   "metadata": {},
   "outputs": [
    {
     "name": "stdout",
     "output_type": "stream",
     "text": [
      "Train dimension:\n",
      "(50000, 784)\n",
      "Test dimension:\n",
      "(10000, 784)\n",
      "Train labels dimension:\n",
      "(50000, 10)\n",
      "Test labels dimension:\n",
      "(10000, 10)\n"
     ]
    },
    {
     "data": {
      "text/plain": [
       "array([0, 0, 0, 0, 0, 1, 0, 0, 0, 0])"
      ]
     },
     "execution_count": 5,
     "metadata": {},
     "output_type": "execute_result"
    }
   ],
   "source": [
    "print('Train dimension:');\n",
    "print(X_train.shape)\n",
    "print('Test dimension:');\n",
    "print(X_test.shape)\n",
    "## Changing labels to one-hot encoded vector\n",
    "lb = LabelBinarizer()\n",
    "y_train = lb.fit_transform(y_train)\n",
    "y_test = lb.transform(y_test)\n",
    "print('Train labels dimension:');\n",
    "print(y_train.shape)\n",
    "print('Test labels dimension:');\n",
    "print(y_test.shape)\n",
    "y_train[0]"
   ]
  },
  {
   "cell_type": "code",
   "execution_count": 6,
   "metadata": {},
   "outputs": [],
   "source": [
    "## Defining various initialization parameters for 784-512-256-10 MLP model\n",
    "num_classes = y_train.shape[1]\n",
    "num_features = X_train.shape[1]\n",
    "num_output = y_train.shape[1]\n",
    "num_layers_0 = 512\n",
    "num_layers_1 = 256\n",
    "starter_learning_rate = 0.001\n",
    "regularizer_rate = 0.1"
   ]
  },
  {
   "cell_type": "code",
   "execution_count": 7,
   "metadata": {},
   "outputs": [],
   "source": [
    "# Placeholders for the input data\n",
    "input_X = tf.placeholder('float32',shape =(None,num_features),name=\"input_X\")\n",
    "input_y = tf.placeholder('float32',shape = (None,num_classes),name='input_Y')\n",
    "## for dropout layer\n",
    "keep_prob = tf.placeholder(tf.float32)"
   ]
  },
  {
   "cell_type": "code",
   "execution_count": 8,
   "metadata": {},
   "outputs": [],
   "source": [
    "def first_layer(neurons_input,neurons_output,inputs, dropout,activation_func):\n",
    "    \n",
    "    weights.append(tf.Variable(tf.random_normal([neurons_input,neurons_output], stddev=(1/tf.sqrt(float(neurons_input))))))\n",
    "    bias.append(tf.Variable(tf.random_normal([neurons_output])))\n",
    "    \n",
    "    if(activation_func=='relu'):\n",
    "        visible_layer =tf.nn.relu(tf.matmul(inputs,weights[-1])+bias[-1])\n",
    "    return visible_layer\n",
    "    "
   ]
  },
  {
   "cell_type": "code",
   "execution_count": 9,
   "metadata": {},
   "outputs": [],
   "source": [
    "def hdd_layer(neurons_input=0, neurons_output=0, dropout=False, previous_layer=0, activation_func=None) :\n",
    "    weights.append(tf.Variable(tf.random_normal([neurons_input,neurons_output], stddev=(1/tf.sqrt(float(neurons_input))))))\n",
    "    bias.append(tf.Variable(tf.random_normal([neurons_output])))\n",
    "\n",
    "    if(activation_func=='relu'):\n",
    "        hidden_output =tf.nn.relu(tf.matmul(previous_layer,weights[-1])+bias[-1])\n",
    "    \n",
    "    if(dropout):\n",
    "        hidden_output= (tf.nn.dropout(hidden_output, keep_prob))\n",
    "    return hidden_output\n"
   ]
  },
  {
   "cell_type": "code",
   "execution_count": 10,
   "metadata": {},
   "outputs": [],
   "source": [
    "def last_layer(activation_func,neurons_input,neurons_output,previous_layer):\n",
    "    weights.append(tf.Variable(tf.random_normal([neurons_input,neurons_output], name=\"W\", \n",
    "                                                stddev=(1/tf.sqrt(float(neurons_input)))\n",
    "                                                )))\n",
    "    bias.append(tf.Variable(tf.random_normal([neurons_output]), name=\"B\"))\n",
    "    \n",
    "    if(activation_func=='sigmoid'):\n",
    "        predicted_y = tf.sigmoid(tf.matmul(previous_layer,weights[-1]) + bias[-1])\n",
    "    elif(activation_func=='softmax'):\n",
    "        predicted_y = tf.nn.softmax(tf.matmul(previous_layer,weights[-1]) + bias[-1])\n",
    "    elif(activation_func=='leaky_relu'):\n",
    "        predicted_y=tf.nn.leaky_relu(tf.matmul(previous_layer,weights[-1]) + bias[-1])\n",
    "    elif(activation_func=='relu'):\n",
    "        predicted_y=tf.nn.relu(tf.matmul(previous_layer,weights[-1]) + bias[-1])\n",
    "    elif(activation_func=='tanh'):\n",
    "        predicted_y=tf.nn.tanh(tf.matmul(previous_layer,weights[-1]) + bias[-1])\n",
    "    return predicted_y\n"
   ]
  },
  {
   "cell_type": "code",
   "execution_count": 29,
   "metadata": {},
   "outputs": [],
   "source": [
    "## Defining the loss function\n",
    "#tf.nn.softmax_cross_entropy_with_logits_v2(logits=,labels=input_y) \n",
    "#loss= -tf.reduce_sum(input_y* tf.log(predicted_y), axis=1)\n",
    "control = tf.constant([0.001,0.001,0.001,0.001,0.001,0.001,0.001,0.001,0.001,0.001])\n",
    "def perda(op_cost):\n",
    "    if (op_cost=='cross entropy'):       \n",
    "        xent = -input_y*tf.log(tf.add(tensor,tf.abs(predicted_y))) - (1-input_y)*tf.log(tf.add(control,tf.abs((1-predicted_y)))) # Cross-entropy\n",
    "        cost = tf.reduce_mean(xent)+tf.reduce_mean(weights[0]**2)  \n",
    "    elif(op_cost=='mse'):\n",
    "        mse = tf.square((predicted_y -input_y))\n",
    "        cost = tf.reduce_mean(mse)+tf.reduce_mean(weights[0]**2)\n",
    "    return cost"
   ]
  },
  {
   "cell_type": "code",
   "execution_count": 30,
   "metadata": {},
   "outputs": [],
   "source": [
    "#learning_rate = tf.train.exponential_decay(starter_learning_rate, 0, 5, 0.85, staircase=True)\n",
    "#optimizer = tf.train.AdamOptimizer(learning_rate).minimize(loss)\n",
    "    ## Adam optimzer for finding the right weight\n",
    "## Variable learning rate\n",
    "def otimizador(loss):  \n",
    "    optimizer = tf.train.GradientDescentOptimizer(0.1).minimize(loss, var_list=[weights,bias])\n",
    "    return optimizer"
   ]
  },
  {
   "cell_type": "code",
   "execution_count": 31,
   "metadata": {},
   "outputs": [],
   "source": [
    "## Here we call the functions to define layers, loss and optimezer\n",
    "weights=[]\n",
    "bias =[]\n",
    "layers_outupt=first_layer(neurons_input=num_features,neurons_output =512,dropout=False,\n",
    "                          inputs=input_X, activation_func='relu')\n",
    "\n",
    "layers_outupt=hdd_layer(neurons_input=512,neurons_output=256,dropout=False,\n",
    "                        previous_layer=layers_outupt,activation_func='relu')\n",
    "\n",
    "layers_outupt=hdd_layer(neurons_input=256,neurons_output =128,\n",
    "                        dropout=True,previous_layer=layers_outupt,activation_func='relu')\n",
    "\n",
    "predicted_y= last_layer(neurons_input=128,neurons_output=num_classes,\n",
    "                        previous_layer=layers_outupt,activation_func='softmax')\n",
    "cost=perda('mse')\n",
    "\n",
    "optimizer=otimizador(cost)\n"
   ]
  },
  {
   "cell_type": "code",
   "execution_count": 32,
   "metadata": {},
   "outputs": [],
   "source": [
    "## Metrics definition\n",
    "correct_prediction = tf.equal(tf.argmax(y_train,1), tf.argmax(predicted_y,1))\n",
    "accuracy = tf.reduce_mean(tf.cast(correct_prediction, tf.float32))\n"
   ]
  },
  {
   "cell_type": "code",
   "execution_count": null,
   "metadata": {
    "scrolled": true
   },
   "outputs": [
    {
     "name": "stdout",
     "output_type": "stream",
     "text": [
      "Epoch:0, Train loss: 89650.00 Train acc: 0.104, Test acc:0.103\n",
      "Epoch:1, Train loss: 89650.00 Train acc: 0.104, Test acc:0.103\n",
      "Epoch:2, Train loss: 89650.00 Train acc: 0.104, Test acc:0.103\n",
      "Epoch:3, Train loss: 89650.00 Train acc: 0.104, Test acc:0.103\n"
     ]
    }
   ],
   "source": [
    "## Training parameters\n",
    "batch_size = 64\n",
    "epochs=5\n",
    "dropout_prob = 0.5\n",
    "training_accuracy = []\n",
    "training_loss = []\n",
    "testing_accuracy = []\n",
    "\n",
    "# Initialization\n",
    "init = tf.global_variables_initializer()\n",
    "with tf.Session() as session:\n",
    "    session.run(init)\n",
    "\n",
    "    for epoch in range(epochs):    \n",
    "        arr = np.arange(X_train.shape[0])\n",
    "        np.random.shuffle(arr)\n",
    "        for index in range(0,X_train.shape[0],batch_size):\n",
    "            session.run(optimizer, {input_X: X_train[arr[index:index+batch_size]],\n",
    "                              input_y: y_train[arr[index:index+batch_size]],\n",
    "                             keep_prob:dropout_prob})\n",
    "        training_accuracy.append(session.run(accuracy, feed_dict= {input_X:X_train, \n",
    "                                                             input_y: y_train,keep_prob:1}))\n",
    "        training_loss.append(session.run(cost, {input_X: X_train, \n",
    "                                          input_y: y_train,keep_prob:1}))\n",
    "        ## Evaluation of model\n",
    "        testing_accuracy.append(accuracy_score(y_test.argmax(1), \n",
    "                            session.run(predicted_y, {input_X: X_test,keep_prob:1}).argmax(1)))\n",
    "        print(\"Epoch:{0}, Train loss: {1:.2f} Train acc: {2:.3f}, Test acc:{3:.3f}\".format(epoch,\n",
    "                                                                    training_loss[epoch],\n",
    "                                                                    training_accuracy[epoch],\n",
    "                                                                   testing_accuracy[epoch]))\n"
   ]
  },
  {
   "cell_type": "code",
   "execution_count": null,
   "metadata": {},
   "outputs": [],
   "source": []
  }
 ],
 "metadata": {
  "kernelspec": {
   "display_name": "Python 3",
   "language": "python",
   "name": "python3"
  },
  "language_info": {
   "codemirror_mode": {
    "name": "ipython",
    "version": 3
   },
   "file_extension": ".py",
   "mimetype": "text/x-python",
   "name": "python",
   "nbconvert_exporter": "python",
   "pygments_lexer": "ipython3",
   "version": "3.5.2"
  }
 },
 "nbformat": 4,
 "nbformat_minor": 2
}
